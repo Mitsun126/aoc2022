{
 "cells": [
  {
   "cell_type": "code",
   "execution_count": 24,
   "id": "dc0e82a0",
   "metadata": {},
   "outputs": [
    {
     "name": "stdout",
     "output_type": "stream",
     "text": [
      "8185\n"
     ]
    }
   ],
   "source": [
    "infile = open (\"Advent day 3.txt\",\"r\")\n",
    "\n",
    "index = \"abcdefghijklmnopqrstuvwxyzABCDEFGHIJKLMNOPQRSTUVWXYZ\"\n",
    "total = 0\n",
    "\n",
    "for line in infile.readlines():\n",
    "    middle = int(len(line)/2)\n",
    "    half1 = set(line[:middle])\n",
    "    half2 = set(line[middle:])\n",
    "    \n",
    "    common = half1&half2\n",
    "    \n",
    "    for x in common:\n",
    "        total += index.index(x) + 1\n",
    "    \n",
    "\n",
    "infile.close()\n",
    "print(total)    "
   ]
  },
  {
   "cell_type": "code",
   "execution_count": 2,
   "id": "6c1f47c2",
   "metadata": {},
   "outputs": [
    {
     "name": "stdout",
     "output_type": "stream",
     "text": [
      "2817\n"
     ]
    }
   ],
   "source": [
    "infile = open (\"Advent day 3.txt\",\"r\")\n",
    "\n",
    "index = \"abcdefghijklmnopqrstuvwxyzABCDEFGHIJKLMNOPQRSTUVWXYZ\"\n",
    "total = 0\n",
    "\n",
    "line1 = infile.readline()\n",
    "while line1 != \"\":\n",
    "    line1 = line1.strip()\n",
    "    line1 = set(line1)\n",
    "    line2 = set(infile.readline())\n",
    "    line3 = set(infile.readline())\n",
    "    \n",
    "    common = line1&(line2&line3)\n",
    "    \n",
    "    \n",
    "    for x in common:\n",
    "        total += index.index(x) + 1\n",
    "    \n",
    "    line1 = infile.readline()\n",
    "    \n",
    "infile.close()\n",
    "print(total)"
   ]
  },
  {
   "cell_type": "code",
   "execution_count": null,
   "id": "c66fa36f",
   "metadata": {},
   "outputs": [],
   "source": []
  }
 ],
 "metadata": {
  "kernelspec": {
   "display_name": "Python 3 (ipykernel)",
   "language": "python",
   "name": "python3"
  },
  "language_info": {
   "codemirror_mode": {
    "name": "ipython",
    "version": 3
   },
   "file_extension": ".py",
   "mimetype": "text/x-python",
   "name": "python",
   "nbconvert_exporter": "python",
   "pygments_lexer": "ipython3",
   "version": "3.11.0"
  }
 },
 "nbformat": 4,
 "nbformat_minor": 5
}
